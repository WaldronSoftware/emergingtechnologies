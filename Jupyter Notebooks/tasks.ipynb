{
 "cells": [
  {
   "cell_type": "markdown",
   "id": "6e86430a-c19d-479c-ac6a-e71a57921fa6",
   "metadata": {},
   "source": [
    "**Tasks**"
   ]
  },
  {
   "cell_type": "markdown",
   "id": "733f95ba-eeea-420a-9942-17cd1c2dfd3a",
   "metadata": {},
   "source": [
    "# **Task 1 - Collatz Conjecture**"
   ]
  },
  {
   "cell_type": "markdown",
   "id": "ea2c5c3f-46c9-43e7-b6a8-5ed043d0c4db",
   "metadata": {},
   "source": [
    "Content"
   ]
  },
  {
   "cell_type": "markdown",
   "id": "942564ab-fc59-40b2-9a09-021d2d0c34e7",
   "metadata": {},
   "source": [
    "# **Task 2 - Square Root Calculation**"
   ]
  },
  {
   "cell_type": "markdown",
   "id": "87ab2102-4f3a-4ce8-8419-b2137fdb70d3",
   "metadata": {},
   "source": [
    "Content"
   ]
  },
  {
   "cell_type": "markdown",
   "id": "7a0e5f7e-3222-44f4-8309-564e4c01ab0e",
   "metadata": {},
   "source": [
    "# **Task 3 - Functions**"
   ]
  },
  {
   "cell_type": "markdown",
   "id": "2eb65cec-4bd5-4585-93b4-32e5826dfb47",
   "metadata": {},
   "source": [
    "Content"
   ]
  },
  {
   "cell_type": "markdown",
   "id": "de856510-efdd-4f15-9ae4-5c1d0508137e",
   "metadata": {},
   "source": [
    "# **Task 4 - Matrix Multiplication**"
   ]
  },
  {
   "cell_type": "markdown",
   "id": "4a7c96f2-75ec-4636-b135-4b55a21505b6",
   "metadata": {},
   "source": [
    "Content"
   ]
  }
 ],
 "metadata": {
  "kernelspec": {
   "display_name": "Python 3 (ipykernel)",
   "language": "python",
   "name": "python3"
  },
  "language_info": {
   "codemirror_mode": {
    "name": "ipython",
    "version": 3
   },
   "file_extension": ".py",
   "mimetype": "text/x-python",
   "name": "python",
   "nbconvert_exporter": "python",
   "pygments_lexer": "ipython3",
   "version": "3.11.5"
  }
 },
 "nbformat": 4,
 "nbformat_minor": 5
}
