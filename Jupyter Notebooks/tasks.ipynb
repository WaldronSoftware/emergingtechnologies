{
 "cells": [
  {
   "cell_type": "markdown",
   "id": "6e86430a-c19d-479c-ac6a-e71a57921fa6",
   "metadata": {
    "jp-MarkdownHeadingCollapsed": true,
    "tags": []
   },
   "source": [
    "# Emerging Technology Tasks\n",
    "### Ronan Waldron\n",
    "### G00384180\n",
    "\n",
    "<div style=\"border-bottom: 1px solid #333;\"></div>"
   ]
  },
  {
   "cell_type": "markdown",
   "id": "733f95ba-eeea-420a-9942-17cd1c2dfd3a",
   "metadata": {
    "tags": []
   },
   "source": [
    "# Task 1 - Collatz Conjecture\n",
    "###### To verify, using python, that the conjecture is true for the first 10,000 positive integers."
   ]
  },
  {
   "cell_type": "markdown",
   "id": "b84a6479-be1f-4b36-9f1a-5f578fe8d9c0",
   "metadata": {},
   "source": [
    "<div style=\"border-bottom: 1px solid #333;\"></div>"
   ]
  },
  {
   "cell_type": "markdown",
   "id": "442e2f93-285a-4df8-a80b-df4d4bdd4b2f",
   "metadata": {},
   "source": [
    "<blockquote style=\"text-align:center; background-color:#f3f3f3; padding: 10px; border-radius: 10px;\">\n",
    "<em>The Collatz conjecture, proposed by German mathematician Lothar Collatz in 1937, presents a deceptively simple operation on natural numbers that raises a complex problem: it posits that by taking any positive integer and applying the rules—if the number is even, divide it by two; if it's odd, multiply it by three and add one—you will eventually reach the number one. This sequence of operations is known as the \"3n + 1\" sequence, and the numbers generated are often referred to as the \"hailstone sequence\" due to their fluctuating values like hailstones in a storm. [1]</em>\n",
    "</blockquote>\n",
    "<br>\n",
    "\n",
    "In simple terms, the Collatz Conjecture says if you take any positive whole number and apply the following rules eventually you will get to the number on.\n",
    "    - If the number is even, half it.\n",
    "    - If the number is off, triple it and add one.\n",
    "This process is known as the 3n+1 sequence. The numbers that arrise are often called the Hailstone Sequence because their values go up and down like hailstones in a storm.\n",
    "\n",
    "<br>\n",
    "<div style=\"text-align: center;\">\n",
    "<img src=\"Images/task1formula.png\" alt=\"Collatz Conjecture Formula\" width=\"400\" height=\"300\">\n",
    "    \n",
    "\n",
    "\n",
    "\n",
    "###### *Figure: The Collatz Conjecture Formula [2].*\n",
    "    \n",
    "\n",
    "    \n",
    "    \n",
    "\n",
    "Below with Python, I will verify that the Collatz Conjecture runs true for the first 10,000 positive integers.\n",
    "</div>\n"
   ]
  },
  {
   "cell_type": "code",
   "execution_count": 19,
   "id": "bf1cbf8c-b5a3-479c-b41d-ad32bb054eac",
   "metadata": {},
   "outputs": [
    {
     "name": "stderr",
     "output_type": "stream",
     "text": [
      "UsageError: unrecognized arguments: Discard cell's output - Comment out and execute to see output\n"
     ]
    }
   ],
   "source": [
    "%%capture # Discard cell's output - Comment out and execute to see output\n",
    "\n",
    "# Function to perform Collatz sequence for a given positive integer n\n",
    "def collatz_conjecture(n):\n",
    "    while n != 1:\n",
    "        if n % 2 == 0:\n",
    "            n = n // 2  # If n is even divide by 2\n",
    "        else:\n",
    "            n = 3 * n + 1  # If n is odd multiply by 3 and add 1\n",
    "    return n  # Return 1 if sequence reaches 1\n",
    "\n",
    "# Function to verify Collatz Conjecture for the first limit positive integers\n",
    "def verify_collatz_conjecture(limit):\n",
    "    for i in range(1, limit + 1):\n",
    "        result = collatz_conjecture(i)  # Calculate Collatz sequence result for i\n",
    "        if result == 1:\n",
    "            print(f\"Collatz Conjecture is verified for {i}\")  # Print if sequence reaches 1\n",
    "        else:\n",
    "            print(f\"Collatz Conjecture is NOT verified for {i}\")  # Print if sequence does not reach 1\n",
    "\n",
    "if __name__ == \"__main__\":\n",
    "    limit = 10000  # Set limit to first 10,000 positive integers\n",
    "    verify_collatz_conjecture(limit)  # Call function to verify Collatz Conjecture"
   ]
  },
  {
   "cell_type": "markdown",
   "id": "942564ab-fc59-40b2-9a09-021d2d0c34e7",
   "metadata": {
    "tags": []
   },
   "source": [
    "# Task 2 - Square Root Calculation\n",
    "###### To write a function sqrt(x) to approximate the square root of a floating point number x without using the power operator or a package."
   ]
  },
  {
   "cell_type": "markdown",
   "id": "696b13d9-6943-4657-b1c4-588116e8dffe",
   "metadata": {
    "tags": []
   },
   "source": [
    "<div style=\"border-bottom: 1px solid #333;\"></div>"
   ]
  },
  {
   "cell_type": "markdown",
   "id": "a2350fae-e266-4020-a295-8f78b7a55a38",
   "metadata": {},
   "source": [
    "<blockquote style=\"text-align:center; background-color:#f3f3f3; padding: 10px; border-radius: 10px;\">\n",
    "<em>Newtons Method is an algorithm that starts with a guess for the square root of a number x(n) and computes the sequence of improved guesses over time until solved.[3]</em>\n",
    "</blockquote>\n"
   ]
  },
  {
   "cell_type": "markdown",
   "id": "87ab2102-4f3a-4ce8-8419-b2137fdb70d3",
   "metadata": {},
   "source": [
    "<div style=\"text-align: center;\">\n",
    "<img src=\"Images/task2formula.jpg\" alt=\"Square Root\" width=\"300\" height=\"200\">\n",
    "    \n",
    "\n",
    "\n",
    "###### *Figure: Newton's Method Formula [4].*\n",
    "    \n",
    "<br>\n",
    "    \n",
    "\n",
    "Below is a block of Python code for calculating the square root of a floating point number.\n",
    "</div>"
   ]
  },
  {
   "cell_type": "code",
   "execution_count": null,
   "id": "54096438-a1a2-4265-8df4-471abdd3482f",
   "metadata": {
    "tags": []
   },
   "outputs": [],
   "source": [
    "def sqrt(x, tolerance=0.0001, max_iterations=1000):\n",
    "\n",
    "    # Ensure input is positive\n",
    "    if x < 0:\n",
    "        raise ValueError(\"Cannot calculate square root of a negative number.\")\n",
    "    if x == 0:\n",
    "        return 0\n",
    "\n",
    "     # Initial guess for square root can be x/2 or any non zero number\n",
    "    z = x if x >= 1 else 1\n",
    "    \n",
    "    # Initialize iteration counter\n",
    "    iteration = 0\n",
    "    \n",
    "    # Loop until approximation is within specified tolerance or max iterations reached\n",
    "    while iteration < max_iterations:\n",
    "        # Apply Newton's method formula\n",
    "        z_next = z - (z * z - x) / (2 * z)\n",
    "        \n",
    "        # Check if difference is within the desired tolerance\n",
    "        if abs(z - z_next) < tolerance:\n",
    "            return z_next\n",
    "        \n",
    "        # Update guess for next iteration\n",
    "        z = z_next\n",
    "        iteration += 1\n",
    "    \n",
    "    # If max_iterations is reached without convergence warn the user\n",
    "    raise ValueError(\"Failed to converge within the maximum number of iterations.\")\n",
    "\n",
    "# Example output\n",
    "\n",
    "sqrt_2 = sqrt(2)\n",
    "sqrt_10 = sqrt(10)\n",
    "sqrt_99 = sqrt(99)\n",
    "\n",
    "print(\"The square root of 2 is approximately:\", sqrt_2)\n",
    "print(\"The square root of 10 is approximately:\", sqrt_10)\n",
    "print(\"The square root of 99 is approximately:\", sqrt_99)\n",
    "\n"
   ]
  },
  {
   "cell_type": "markdown",
   "id": "7a0e5f7e-3222-44f4-8309-564e4c01ab0e",
   "metadata": {},
   "source": [
    "# Task 3 - Functions - Mapping Inputs to Outputs\n",
    "###### To determine how many functions taking four bits as input and outputting a single bit exist."
   ]
  },
  {
   "cell_type": "markdown",
   "id": "6245369b-cbdd-4357-ab56-13fca53cff8b",
   "metadata": {},
   "source": [
    "<div style=\"border-bottom: 1px solid #333;\"></div>"
   ]
  },
  {
   "cell_type": "markdown",
   "id": "66b73c98-68bc-4d14-813b-146d1e8b8fe8",
   "metadata": {},
   "source": [
    "Consider functions that accept a 4-bit binary number as input and output a single binary digit. There are $2^4$ or 16 possible 4-bit inputs, and for each input, the function can output either 0 or 1, leading to $2^{16}$ or 65,536 possible distinct functions. The Python code below randomly selects one of these 65,536 functions. This is done by generating a random 16-bit binary string, where each bit represents the function's output for a corresponding 4-bit input. To determine the specific behavior of any chosen function, it is necessary to call the function with every possible 4-bit input. Since there are 16 such inputs, the function must be called 16 times to be certain of its behavior. The code iterates through all 16 possible inputs, showing the output for each, which confirms how the randomly selected function behaves for all possible inputs."
   ]
  },
  {
   "cell_type": "code",
   "execution_count": 21,
   "id": "7a5f2eb1-fa14-45d0-bc84-d4db67ffa896",
   "metadata": {
    "tags": []
   },
   "outputs": [
    {
     "name": "stdout",
     "output_type": "stream",
     "text": [
      "Randomly selected function: 0110100001111011\n",
      "Number of calls needed to be certain of function: 16\n",
      "Function calls with all possible 4-bit inputs:\n",
      "Input: 0000 -> Output: 0\n",
      "Input: 0001 -> Output: 1\n",
      "Input: 0010 -> Output: 1\n",
      "Input: 0011 -> Output: 0\n",
      "Input: 0100 -> Output: 1\n",
      "Input: 0101 -> Output: 0\n",
      "Input: 0110 -> Output: 0\n",
      "Input: 0111 -> Output: 0\n",
      "Input: 1000 -> Output: 0\n",
      "Input: 1001 -> Output: 1\n",
      "Input: 1010 -> Output: 1\n",
      "Input: 1011 -> Output: 1\n",
      "Input: 1100 -> Output: 1\n",
      "Input: 1101 -> Output: 0\n",
      "Input: 1110 -> Output: 1\n",
      "Input: 1111 -> Output: 1\n"
     ]
    }
   ],
   "source": [
    "import random\n",
    "\n",
    "# Constants\n",
    "NUM_INPUTS = 2**4  # 16 possible 4-bit inputs\n",
    "TOTAL_FUNCTIONS = 2**NUM_INPUTS  # 2^16 possible functions\n",
    "\n",
    "# Function to generate random 16-bit function\n",
    "def generate_random_function():\n",
    "   \n",
    "    random_function = bin(random.randint(0, TOTAL_FUNCTIONS - 1))[2:].zfill(NUM_INPUTS)\n",
    "    return random_function\n",
    "\n",
    "# Function to simulate calling random function with 4-bit input\n",
    "def call_function(function, input):\n",
    "  \n",
    "    input_index = int(input, 2)  # Convert 4-bit input to integer index\n",
    "    return function[input_index]  # Return output bit at index\n",
    "\n",
    "# Generate random function and print\n",
    "random_function = generate_random_function()\n",
    "print(f\"Randomly selected function: {random_function}\")\n",
    "\n",
    "# Number of calls needed to identify function\n",
    "# Call function with each possible 4-bit input to be certain of its behavior\n",
    "calls_needed = NUM_INPUTS  \n",
    "print(f\"Number of calls needed to be certain of function: {calls_needed}\")\n",
    "\n",
    "# Simulate calling this function with all possible 4-bit inputs\n",
    "# Show corresponding output for each input\n",
    "print(\"Function calls with all possible 4-bit inputs:\")\n",
    "for i in range(NUM_INPUTS):\n",
    "    # Generating 4-bit input as binary string\n",
    "    input = bin(i)[2:].zfill(4)\n",
    "    # Calling function with current input\n",
    "    output = call_function(random_function, input)\n",
    "    print(f\"Input: {input} -> Output: {output}\")"
   ]
  },
  {
   "cell_type": "markdown",
   "id": "de856510-efdd-4f15-9ae4-5c1d0508137e",
   "metadata": {},
   "source": [
    "# Task 4 - Matrix Multiplication\n",
    "###### To write a Python function capable of performing matrix multiplication on two lists containing floats."
   ]
  },
  {
   "cell_type": "markdown",
   "id": "3aa2bda3-3741-41f4-904d-c3699bd83f5c",
   "metadata": {},
   "source": [
    "<div style=\"border-bottom: 1px solid #333;\"></div>"
   ]
  },
  {
   "cell_type": "markdown",
   "id": "4a7c96f2-75ec-4636-b135-4b55a21505b6",
   "metadata": {},
   "source": [
    "These lists are rectangular which means each inner list ,which represents a row of the matrix, contains the same number of elements or columns. Matrix multiplication involves taking the dot product of rows from the first matrix A with the columns of the second matrix B. The result is a new matrix where the element at position (i, j) is the sum of the products of the corresponding elements from row i of the first matrix and column j of the second matrix. \n",
    "It is important to note that for matrix multiplication to be valid, the number of columns in the first matrix must match the number of rows in the second matrix.\n",
    "\n",
    "Below is the Python function to perform Matrix Manipulation."
   ]
  },
  {
   "cell_type": "code",
   "execution_count": 26,
   "id": "9701f302-83aa-42c1-9650-0711b20ba04f",
   "metadata": {
    "tags": []
   },
   "outputs": [
    {
     "name": "stdout",
     "output_type": "stream",
     "text": [
      "Product of the two matrices:\n",
      "[19.0, 22.0]\n",
      "[43.0, 50.0]\n"
     ]
    }
   ],
   "source": [
    "def matrix_multiplication(matrix_a, matrix_b):\n",
    "    \n",
    "    # Check if matrices are non empty and rectangular\n",
    "    if not matrix_a or not matrix_a[0] or not matrix_b or not matrix_b[0]:\n",
    "        raise ValueError(\"Matrices cannot be empty.\")\n",
    "    if any(len(row) != len(matrix_a[0]) for row in matrix_a) or any(len(row) != len(matrix_b[0]) for row in matrix_b):\n",
    "        raise ValueError(\"Matrices must be rectangular.\")\n",
    "    \n",
    "    # Check matrix dimensions for multiplication\n",
    "    if len(matrix_a[0]) != len(matrix_b):\n",
    "        raise ValueError(\"Invalid dimensions for matrix multiplication. Number of columns in the first matrix must equal the number of rows in the second.\")\n",
    "    \n",
    "    # Initialize the resulting matrix with 0s\n",
    "    result = [[0.0 for _ in range(len(matrix_b[0]))] for _ in range(len(matrix_a))]\n",
    "    \n",
    "    # Perform matrix multiplication\n",
    "    for i in range(len(matrix_a)):\n",
    "        for j in range(len(matrix_b[0])):\n",
    "            for k in range(len(matrix_b)):\n",
    "                result[i][j] += matrix_a[i][k] * matrix_b[k][j]\n",
    "    \n",
    "    return result\n",
    "\n",
    "# \n",
    "# Define two matrices matrix_a and matrix_b\n",
    "matrix_a = [[1.0, 2.0], [3.0, 4.0]]\n",
    "matrix_b = [[5.0, 6.0], [7.0, 8.0]]\n",
    "\n",
    "# Perform matrix multiplication\n",
    "product_matrix = matrix_multiplication(matrix_a, matrix_b)\n",
    "\n",
    "# Print resulting matrix\n",
    "print(\"Product of the two matrices:\")\n",
    "for row in product_matrix:\n",
    "    print(row)\n"
   ]
  },
  {
   "cell_type": "markdown",
   "id": "9e4a2069-8afd-4b2a-8a70-029998872b2a",
   "metadata": {},
   "source": [
    "# Notes"
   ]
  },
  {
   "cell_type": "markdown",
   "id": "c01d9326-6c9a-4235-97f6-d6fa6ade539f",
   "metadata": {},
   "source": [
    "Code was written with the assistance of OpenAI - ChatGPT, all comments are my own.\n",
    "\n"
   ]
  },
  {
   "cell_type": "markdown",
   "id": "a2637516-14c1-4633-96bf-62941b7df06f",
   "metadata": {},
   "source": [
    "# References"
   ]
  },
  {
   "cell_type": "markdown",
   "id": "33e561bf-b2be-4d8f-9ee6-e9fe0547f602",
   "metadata": {},
   "source": [
    "<div style=\"border-bottom: 1px solid #333;\"></div>"
   ]
  },
  {
   "cell_type": "markdown",
   "id": "083eb473-a1c3-4a55-8e46-00dd31851012",
   "metadata": {},
   "source": [
    "[1] https://science.howstuffworks.com/math-concepts/collatz-conjecture.htm\n",
    "\n",
    "[2] https://sites.dartmouth.edu/mathsociety/files/2019/11/gyorda_article_1_picture.png   IMAGE\n",
    "\n",
    "[3][4] https://ocw.mit.edu/courses/18-335j-introduction-to-numerical-methods-spring-2019/0a734ecc94b60a26213488e68588bc8d_MIT18_335JS19_lec1.pdf"
   ]
  }
 ],
 "metadata": {
  "kernelspec": {
   "display_name": "Python 3 (ipykernel)",
   "language": "python",
   "name": "python3"
  },
  "language_info": {
   "codemirror_mode": {
    "name": "ipython",
    "version": 3
   },
   "file_extension": ".py",
   "mimetype": "text/x-python",
   "name": "python",
   "nbconvert_exporter": "python",
   "pygments_lexer": "ipython3",
   "version": "3.11.5"
  }
 },
 "nbformat": 4,
 "nbformat_minor": 5
}
