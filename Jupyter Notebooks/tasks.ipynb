{
 "cells": [
  {
   "cell_type": "markdown",
   "id": "6e86430a-c19d-479c-ac6a-e71a57921fa6",
   "metadata": {
    "jp-MarkdownHeadingCollapsed": true,
    "tags": []
   },
   "source": [
    "# Emerging Technology Tasks\n",
    "### Ronan Waldron\n",
    "### G00384180"
   ]
  },
  {
   "cell_type": "markdown",
   "id": "733f95ba-eeea-420a-9942-17cd1c2dfd3a",
   "metadata": {
    "tags": []
   },
   "source": [
    "# Task 1 - Collatz Conjecture"
   ]
  },
  {
   "cell_type": "markdown",
   "id": "b84a6479-be1f-4b36-9f1a-5f578fe8d9c0",
   "metadata": {},
   "source": [
    "<div style=\"border-bottom: 1px solid #333;\"></div>"
   ]
  },
  {
   "cell_type": "markdown",
   "id": "442e2f93-285a-4df8-a80b-df4d4bdd4b2f",
   "metadata": {},
   "source": [
    "The Collatz conjecture, proposed by German mathematician Lothar Collatz in 1937, presents a deceptively simple operation on natural numbers that raises a complex problem: it posits that by taking any positive integer and applying the rules—if the number is even, divide it by two; if it's odd, multiply it by three and add one—you will eventually reach the number one. This sequence of operations is known as the \"3n + 1\" sequence, and the numbers generated are often referred to as the \"hailstone sequence\" due to their fluctuating values like hailstones in a storm. [1]\n",
    "\n",
    "\n",
    "<img src=\"https://sites.dartmouth.edu/mathsociety/files/2019/11/gyorda_article_1_picture.png\" alt=\"Alt Text\" width=\"400\" height=\"300\">\n",
    "\n",
    "###### *Figure: The Collatz Conjecture Formula [2].*\n",
    "\n",
    "Below I will verify that the Collatz Conjecture runs true for the first 10,000 positive integers.\n"
   ]
  },
  {
   "cell_type": "markdown",
   "id": "942564ab-fc59-40b2-9a09-021d2d0c34e7",
   "metadata": {},
   "source": [
    "# Task 2 - Square Root Calculation"
   ]
  },
  {
   "cell_type": "markdown",
   "id": "696b13d9-6943-4657-b1c4-588116e8dffe",
   "metadata": {
    "tags": []
   },
   "source": [
    "<div style=\"border-bottom: 1px solid #333;\"></div>"
   ]
  },
  {
   "cell_type": "markdown",
   "id": "87ab2102-4f3a-4ce8-8419-b2137fdb70d3",
   "metadata": {},
   "source": [
    "Content"
   ]
  },
  {
   "cell_type": "markdown",
   "id": "7a0e5f7e-3222-44f4-8309-564e4c01ab0e",
   "metadata": {},
   "source": [
    "# Task 3 - Functions"
   ]
  },
  {
   "cell_type": "markdown",
   "id": "6245369b-cbdd-4357-ab56-13fca53cff8b",
   "metadata": {},
   "source": [
    "<div style=\"border-bottom: 1px solid #333;\"></div>"
   ]
  },
  {
   "cell_type": "markdown",
   "id": "2eb65cec-4bd5-4585-93b4-32e5826dfb47",
   "metadata": {},
   "source": [
    "Content"
   ]
  },
  {
   "cell_type": "markdown",
   "id": "de856510-efdd-4f15-9ae4-5c1d0508137e",
   "metadata": {},
   "source": [
    "# Task 4 - Matrix Multiplication"
   ]
  },
  {
   "cell_type": "markdown",
   "id": "3aa2bda3-3741-41f4-904d-c3699bd83f5c",
   "metadata": {},
   "source": [
    "<div style=\"border-bottom: 1px solid #333;\"></div>"
   ]
  },
  {
   "cell_type": "markdown",
   "id": "4a7c96f2-75ec-4636-b135-4b55a21505b6",
   "metadata": {},
   "source": [
    "Content"
   ]
  },
  {
   "cell_type": "markdown",
   "id": "a2637516-14c1-4633-96bf-62941b7df06f",
   "metadata": {},
   "source": [
    "# References"
   ]
  },
  {
   "cell_type": "markdown",
   "id": "33e561bf-b2be-4d8f-9ee6-e9fe0547f602",
   "metadata": {},
   "source": [
    "<div style=\"border-bottom: 1px solid #333;\"></div>"
   ]
  },
  {
   "cell_type": "markdown",
   "id": "083eb473-a1c3-4a55-8e46-00dd31851012",
   "metadata": {},
   "source": [
    "[1] https://science.howstuffworks.com/math-concepts/collatz-conjecture.htm\n",
    "\n",
    "[2] https://sites.dartmouth.edu/mathsociety/files/2019/11/gyorda_article_1_picture.png   IMAGE"
   ]
  },
  {
   "cell_type": "code",
   "execution_count": null,
   "id": "d34adba2-8469-428d-9926-68bea44c4463",
   "metadata": {},
   "outputs": [],
   "source": []
  }
 ],
 "metadata": {
  "kernelspec": {
   "display_name": "Python 3 (ipykernel)",
   "language": "python",
   "name": "python3"
  },
  "language_info": {
   "codemirror_mode": {
    "name": "ipython",
    "version": 3
   },
   "file_extension": ".py",
   "mimetype": "text/x-python",
   "name": "python",
   "nbconvert_exporter": "python",
   "pygments_lexer": "ipython3",
   "version": "3.11.5"
  }
 },
 "nbformat": 4,
 "nbformat_minor": 5
}
