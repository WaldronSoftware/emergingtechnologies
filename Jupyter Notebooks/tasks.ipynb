{
 "cells": [
  {
   "cell_type": "markdown",
   "id": "6e86430a-c19d-479c-ac6a-e71a57921fa6",
   "metadata": {},
   "source": [
    "**Tasks**"
   ]
  },
  {
   "cell_type": "markdown",
   "id": "733f95ba-eeea-420a-9942-17cd1c2dfd3a",
   "metadata": {},
   "source": [
    "# **Task 1 - Collatz Conjecture**"
   ]
  }
 ],
 "metadata": {
  "kernelspec": {
   "display_name": "Python 3 (ipykernel)",
   "language": "python",
   "name": "python3"
  },
  "language_info": {
   "codemirror_mode": {
    "name": "ipython",
    "version": 3
   },
   "file_extension": ".py",
   "mimetype": "text/x-python",
   "name": "python",
   "nbconvert_exporter": "python",
   "pygments_lexer": "ipython3",
   "version": "3.11.5"
  }
 },
 "nbformat": 4,
 "nbformat_minor": 5
}
