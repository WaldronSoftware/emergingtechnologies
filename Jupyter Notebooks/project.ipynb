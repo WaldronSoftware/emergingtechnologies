{
 "cells": [
  {
   "cell_type": "markdown",
   "id": "58f57740-e411-4171-8fb5-bb9cd199f91e",
   "metadata": {},
   "source": [
    "# Deutsch's Algorithm\n",
    "### Ronan Waldron\n",
    "### G00384180\n",
    "### Emerging Technology Project\n",
    "\n",
    "<div style=\"border-bottom: 1px solid #333;\"></div>"
   ]
  },
  {
   "cell_type": "markdown",
   "id": "8fbeedcb-f986-4012-ab6e-c7997a47031a",
   "metadata": {},
   "source": [
    "# Introduction\n",
    "\n",
    "<div style=\"border-bottom: 1px solid #333;\"></div>"
   ]
  },
  {
   "cell_type": "markdown",
   "id": "84f951a1-d972-4163-8286-f225bcf1b6ca",
   "metadata": {},
   "source": [
    "In the field of quantum computing, Deutsch's Algorithm holds a crucial position as the pioneering example of quantum computational superiority. Devised by David Deutsch in 1985, this algorithm tackles a fundamental question: Can a quantum computer discern the properties of a binary function with fewer assessments compared to a classical computer? The positive outcome achieved by Deutsch's Algorithm not only demonstrated the power of quantum parallelism but also paved the way for the advancement of more intricate quantum algorithms.\n",
    "<br>\n",
    "<br>\n",
    "\n",
    "### Historical Context\n",
    "<br>\n",
    "\n",
    "<blockquote style=\"text-align:center; background-color:#f3f3f3; padding: 10px; border-radius: 10px;\">\n",
    "<em>\n",
    "    \"In the rapidly growing area of quantum information, the Deutsch algorithm is ubiquitous and, in most cases, the first one to be introduced to any student of this relatively new field of research. The reason for this historical relevance stems from the fact that, although extremely simple, the algorithm conveys all the main features of more complex quantum algorithms that would follow.\" <br>\n",
    "— Classical realization of the quantum Deutsch algorithm [1]\n",
    "</em>\n",
    "</blockquote>\n",
    "<br>\n",
    "\n",
    "This passage [1] from an AIP Publishing publication highlights the fundamental role of Deutsch's Algorithm within the quantum computing domain. It underscores the algorithm's widespread use as an educational tool, often serving as students' introduction to quantum algorithms. This is attributed to its historical significance and its simplicity, making it an ideal exemplar for comprehending the fundamental principles of quantum algorithms. Despite its straightforwardness, Deutsch's Algorithm encapsulates the essential characteristics found in more intricate quantum algorithms, serving as an ideal entry point into the broader and more complex aspects of quantum computing. The algorithm's simplicity, coupled with its profound implications, vividly illustrates the distinctive capabilities of quantum systems and offers a tangible demonstration of quantum computational superiority over classical computing.\n",
    "<br>\n",
    "\n",
    "#### Algorithmic Efficiency\n",
    "<br>\n",
    "\n",
    "<blockquote style=\"text-align:center; background-color:#f3f3f3; padding: 10px; border-radius: 10px;\">\n",
    "<em>\n",
    "\"Deutsch's Algorithm was created by David Deutsch and Richard Jozsa in 1992 as a simple example of how quantum computers could easily outperform a standard computer.\"<br> — DEV Community[2]\n",
    "</em>\n",
    "</blockquote>\n",
    "<br>\n",
    "\n",
    "The algorithm provides an excellent example of how a quantum computer, in principle, outperforms a classical computer by using superposition and entanglement to solve a problem with a single query.\n",
    "\n",
    "##### **Superposition**\n",
    "Refers to the unique property of quantum systems that allows them to exist in multiple states simultaneously until measured. According to Nielsen and Chuang's book \"Quantum Computation and Quantum Information\" [3], a quantum bit or qubit can exist in a linear combination of its basis states |0⟩ and |1⟩.\n",
    "\n",
    "$$ |\\psi\\rangle = \\alpha|0\\rangle + \\beta|1\\rangle $$\n",
    "\n",
    "Here α and β are complex probability amplitudes and |α|^2 + |β|^2 = 1. \n",
    "When you measure the qubit it collapses to one of these basis states with probabilities determined by the square of the amplitudes.\n",
    "\n",
    "##### **Entanglement**\n",
    "Refers to the quantum phenomenon in which two or more quantum particles (qubits) become intrinsically correlated even when they are separated by large distances. The state of one particle becomes instantaneously connected to the state of the others. [4]\n",
    "\n",
    "\n",
    "##### **Interference**\n",
    "Closely related to the wave-like nature of quantum particles. It arises when two or more quantum states combine and their amplitudes add or subtract resulting in constructive or destructive interference. In the context of quantum mechanics, the principles of superposition allow quantum particles, such as electrons or photons, to exist in multiple states simultaneously. These states can be represented as probability amplitudes. As a result, when combined, they may interfere. [5]\n",
    "\n",
    "The Double-Slit experiment showcases interference. \n",
    "When a quantum particle, an electron or photon, passes through two slits and encounters an aobstacle on the other side, it exhibits interference patterns on the detection screen. These patterns are a result of the superposition and interference of the particle's probability amplitudes associated with different paths. [5]\n",
    "\n",
    "<div style=\"text-align: center;\">\n",
    "    <img src=\"../Images/doubleslit.png\" alt=\"Double Slit Experiment\" width=\"400\" height=\"300\">\n",
    "    \n",
    "###### *Figure 1: Double Slit Experiment [6].*\n",
    "\n",
    "</div>\n",
    "\n",
    "##### **Quantum Parallelism & Quantum Advantage**\n",
    "<br>\n",
    "\n",
    "Quantum parallelism is a concept in quantum computing that stems from the fundamental principle of superposition. As explained by Nielsen and Chuang in their book \"Quantum Computation and Quantum Information\" [3], it allows quantum computers to perform many calculations simultaneously.\n",
    "\n",
    "In classical computing, a single processor executes instructions sequentially or one after the other. A quantum computer can represent information in a superposition of states, such as 0 and 1, and perform operations on all these states simultaneously. This inherent parallelism can lead to exponential speedup for certain computational tasks.\n",
    "\n",
    "Quantum advantage, also known as quantum supremacy, is described as the point at which a quantum computer can perform certain tasks faster or more efficiently than the most advanced classical supercomputers.\n",
    "\n",
    "In their work titled \"Quantum Supremacy Using a Programmable Superconducting Processor\" [7], researchers from Google reported achieving quantum advantage by demonstrating a specific quantum computational task that could not be efficiently solved using classical computers. This milestone highlighted the potential of quantum computers to outperform classical counterparts for specific applications.\n",
    "\n",
    "<br>\n"
   ]
  },
  {
   "cell_type": "markdown",
   "id": "2bddef3c-b967-4bb9-b21b-730b2e7af669",
   "metadata": {},
   "source": [
    "# Deutsch's Problem\n",
    "\n",
    "<div style=\"border-bottom: 1px solid #333;\"></div>"
   ]
  },
  {
   "cell_type": "markdown",
   "id": "be5b4e76-5509-4c6a-a5dc-073dc5aa659c",
   "metadata": {},
   "source": [
    "Set in the realm of quantum computation, the problem challenges the conventional limits of computational efficiency. It presents an artifical scenario specifically constructed to highlight the potential superiority of quantum computers over classical ones.\n",
    "\n",
    "<br>\n",
    "<blockquote style=\"text-align:center; background-color:#f3f3f3; padding: 10px; border-radius: 10px;\">\n",
    "<em>\n",
    "\"It is well-known that on a quantum computer, we can solve the Deutsch-Jozsa problem much quicker, using just one call to the unitary oracle.\" <br> — PMC, Generalized Quantum Deutsch-Jozsa Algorithm [8]\n",
    "</em>\n",
    "</blockquote>\n",
    "<br>\n",
    "\n",
    "**Nature of the problem**<br>\n",
    "Deutsch's algorithm tackles a seemingly simple yet crucial question: Can we determine whether a given binary function (mapping from {0, 1} to {0, 1}) is constant (yielding the same output for all inputs) or balanced (producing different outputs for each input)?\n",
    "\n",
    "**Quantum Resolution**<br>\n",
    "What makes Deutsch's problem remarkable is that a quantum computer can answer this question with just one function call, a capability that classical computers lack. Classical computers typically need two calls for the same task. This striking contrast in computational efficiency vividly illustrates the inherent advantages of quantum computing.\n",
    "<br>\n",
    "<br>\n",
    "\n",
    "<div style=\"text-align: center;\">\n",
    "<img src=\"../Images/table.JPG\" alt=\"Four Possible Functions\" width=\"400\" height=\"300\">\n",
    "    \n",
    "###### *Figure 2: Four Possible Functions [10].*\n",
    "\n",
    "</div>\n",
    "\n",
    "\n",
    "### The Oracle in Deutsch's Algorithm\n",
    "\n",
    "In Deutsch's Algorithm the \"oracle\" is a fundamental quantum construct, a black box mechanism that embodies the function in question. Meaning it is a system where you can observe the inputs and outputs but have a limited knowledge of what is happening within the system itself.\n",
    "\n",
    "**Functionality**<br>\n",
    "In the Deutsch problem the oracle serves as an abstract entity, a black box responsible for computing a function that maps an n-bit binary digit to either 0 or 1. It operates within the realm of quantum mechanics, concealed from direct scrutiny yet playing a vital role in the algorithm's functionality.\n",
    "\n",
    "**Quantum Computing Strategy**<br>\n",
    "The single query capability of the oracle in a quantum setting starkly contrasts the classical approach, highlighting the computational advantages of quantum mechanics.\n",
    "\n",
    "<br>\n",
    "<blockquote style=\"text-align:center; background-color:#f3f3f3; padding: 10px; border-radius: 10px;\">\n",
    "<em>\n",
    "\"The Deutsch algorithm is a quantum algorithm capable of determining the value of \\(f_i(0) \\oplus f_i(1)\\) by making only a single query to a quantum oracle for \\(f\\). The oracle can be expressed as a unitary operator\" <br> — Full-Stack Quantum Computation, The Deutsch Algorithm [9]\n",
    "</em>\n",
    "</blockquote>\n",
    "<br>\n",
    "\n",
    "**Unitary Operator Representation**\n",
    "In quantum mechanics the oracle is symbolized through a unitary operator. This mathematical representation is vital as it upholds the quantum properties of the algorithm and harnesses principles such as superposition and entanglement to its advantage.\n",
    "\n",
    "In summary, the formulation of Deutsch's problem and the incorporation of the oracle within Deutsch's Algorithm epitomise the innovative approach of quantum computing. These elements showcase how quantum mechanics can be utilised to solve problems with greater efficiency than traditional classical methods, thereby expanding the horizons of computational theory and practical applications.\n"
   ]
  },
  {
   "cell_type": "markdown",
   "id": "ca9c3b84-1acc-4a1d-93fb-ec7b6fd71ad5",
   "metadata": {},
   "source": [
    "# Build Quantum Circuit\n",
    "\n",
    "<div style=\"border-bottom: 1px solid #333;\"></div>"
   ]
  },
  {
   "cell_type": "code",
   "execution_count": 6,
   "id": "7b76e7e6-7181-43fe-bc74-c7fea729a904",
   "metadata": {
    "tags": []
   },
   "outputs": [],
   "source": [
    "# pip install qiskit\n",
    "# pip install qiskit-aer"
   ]
  },
  {
   "cell_type": "markdown",
   "id": "b354972d-e3f7-439d-8ea7-3f1561f4d79f",
   "metadata": {},
   "source": [
    "This code will build and simulate Deutsch's algorithm with an oracle that represents both constant and balanced functions:"
   ]
  },
  {
   "cell_type": "code",
   "execution_count": 10,
   "id": "8acf0129-121e-4d2b-a11e-22a51d427c2f",
   "metadata": {
    "tags": []
   },
   "outputs": [
    {
     "data": {
      "image/png": "[encoded data removed]",
      "text/plain": [
       "<Figure size 700x500 with 1 Axes>"
      ]
     },
     "execution_count": 10,
     "metadata": {},
     "output_type": "execute_result"
    }
   ],
   "source": [
    "# Import components from Qiskit\n",
    "from qiskit import QuantumCircuit, Aer, execute\n",
    "from qiskit.visualization import plot_histogram\n",
    "\n",
    "# Define oracle for constant function (outputs 0 for all inputs)\n",
    "def constant_oracle(qc):\n",
    "    # Do nothing as function is constant\n",
    "    pass\n",
    "\n",
    "# Define oracle for balanced function (outpus 0 for one input and 1 for other)\n",
    "def balanced_oracle(qc):\n",
    "    # Apply CNOT with input qubit as control and ancilla as target\n",
    "    # Flip ancilla qubit for one input state making function balanced\n",
    "    qc.cx(0, 1)\n",
    "    qc.barrier()\n",
    "\n",
    "# Function to create Deutschs algorithm circuit with specified oracle\n",
    "def deutsch_algorithm(oracle):\n",
    "    # Create 2 qubit quantum circuit\n",
    "    qc = QuantumCircuit(2, 1)\n",
    "    \n",
    "    # Step 1: Initialize ancilla qubit in state |1>\n",
    "    qc.x(1)\n",
    "    \n",
    "    # Step 2: Apply Hadamard gates to both qubits\n",
    "    qc.h(0)\n",
    "    qc.h(1)\n",
    "    \n",
    "    # Step 3: Apply oracle\n",
    "    oracle(qc)\n",
    "    \n",
    "    # Step 4: Apply Hadamard gate to input qubit\n",
    "    qc.h(0)\n",
    "    \n",
    "    # Step 5: Measure input qubit\n",
    "    qc.measure(0, 0)\n",
    "    \n",
    "    return qc\n",
    "\n",
    "# Choose oracle type here: constant_oracle or balanced_oracle\n",
    "oracle_type = constant_oracle  # Change to balanced_oracle to test the other case | Code for other is shown below\n",
    "\n",
    "# Create Deutschs algorithm circuit with chosen oracle\n",
    "deutsch_circuit = deutsch_algorithm(oracle_type)\n",
    "\n",
    "# Use Aer qasm_simulator\n",
    "simulator = Aer.get_backend('qasm_simulator')\n",
    "\n",
    "# Execute circuit on qasm simulator\n",
    "job = execute(deutsch_circuit, simulator, shots=1024)\n",
    "\n",
    "# Get results\n",
    "results = job.result()\n",
    "\n",
    "# Get counts (result of measurement)\n",
    "counts = results.get_counts(deutsch_circuit)\n",
    "\n",
    "# Plot histogram of counts\n",
    "plot_histogram(counts)\n"
   ]
  },
  {
   "cell_type": "markdown",
   "id": "d6349cee-35ff-4105-b5fb-361691d5057b",
   "metadata": {},
   "source": [
    "This code will build and simulate Deutsch's algorithm with an oracle that represents a balanced function:<br>\n",
    "balanced_oracle"
   ]
  },
  {
   "cell_type": "code",
   "execution_count": 11,
   "id": "1283ee12-c1fb-4087-931c-c727255b82de",
   "metadata": {
    "tags": []
   },
   "outputs": [
    {
     "data": {
      "image/png": "[encoded data removed]",
      "text/plain": [
       "<Figure size 700x500 with 1 Axes>"
      ]
     },
     "execution_count": 11,
     "metadata": {},
     "output_type": "execute_result"
    }
   ],
   "source": [
    "# Import components from Qiskit\n",
    "from qiskit import QuantumCircuit, Aer, execute\n",
    "from qiskit.visualization import plot_histogram\n",
    "\n",
    "# Define oracle for balanced function (outputs 0 for one input and 1 for other)\n",
    "def balanced_oracle(qc):\n",
    "    # Apply CNOT with input qubit as control and ancilla as target\n",
    "    # Flip ancilla qubit for one input state making function balanced\n",
    "    qc.cx(0, 1)\n",
    "    qc.barrier()\n",
    "\n",
    "# Function to create Deutschs algorithm circuit with specified oracle\n",
    "def deutsch_algorithm(oracle):\n",
    "    # Create a 2-qubit quantum circuit\n",
    "    qc = QuantumCircuit(2, 1)\n",
    "    \n",
    "    # Step 1: Initialize ancilla qubit in state |1>\n",
    "    qc.x(1)\n",
    "    \n",
    "    # Step 2: Apply Hadamard gates to both qubits\n",
    "    qc.h(0)\n",
    "    qc.h(1)\n",
    "    \n",
    "    # Step 3: Apply oracle\n",
    "    oracle(qc)\n",
    "    \n",
    "    # Step 4: Apply Hadamard gate to input qubit\n",
    "    qc.h(0)\n",
    "    \n",
    "    # Step 5: Measure input qubit\n",
    "    qc.measure(0, 0)\n",
    "    \n",
    "    return qc\n",
    "\n",
    "# Create Deutschs algorithm circuit with balanced oracle\n",
    "deutsch_circuit = deutsch_algorithm(balanced_oracle)\n",
    "\n",
    "# Use Aer qasm_simulator\n",
    "simulator = Aer.get_backend('qasm_simulator')\n",
    "\n",
    "# Execute circuit on qasm simulator\n",
    "job = execute(deutsch_circuit, simulator, shots=1024)\n",
    "\n",
    "# Get results\n",
    "results = job.result()\n",
    "\n",
    "# Get counts (result of measurement)\n",
    "counts = results.get_counts(deutsch_circuit)\n",
    "\n",
    "# Plot histogram of counts\n",
    "plot_histogram(counts)\n"
   ]
  },
  {
   "cell_type": "markdown",
   "id": "8f876d1b-e6fb-410d-9ab8-1ddc0d50c456",
   "metadata": {},
   "source": [
    "## Results\n",
    "\n",
    "The histogram from the quantum circuit simulation shows the measurement outcomes of Deutsch's algorithm. For a balanced oracle, which we have implemented, the measurement outcome is always `1`. This is because the interference pattern created by the algorithm cancels out the amplitude of the state `0` and amplifies the state `1` for the input qubit after the final Hadamard gate.\n",
    "\n",
    "In contrast, if we were using a constant oracle, the measurement outcome would always be `0`. This is due to the nature of the constant function: it does not change the ancilla qubit's state, and the interference pattern reinforces the state `0`.\n",
    "\n",
    "By observing the measurement outcome, we can determine whether the function encoded by the oracle is constant or balanced without having to check both possible inputs. This demonstrates the quantum advantage provided by Deutsch's algorithm.\n",
    "\n",
    "<div style=\"border-bottom: 1px solid #333;\"></div>"
   ]
  },
  {
   "cell_type": "markdown",
   "id": "a7b985d4-7476-4072-af2e-fb9338e2696c",
   "metadata": {},
   "source": [
    "For a balanced function, the oracle works as follows:\n",
    "\n",
    "$$\n",
    "[\n",
    "U_f |x\\rangle |y\\rangle = |x\\rangle |y \\oplus f(x)\\rangle\n",
    "]\n",
    "$$\n",
    "\n",
    "Where:\n",
    "- $ |x\\rangle $ is the input qubit\n",
    "- $ |y\\rangle $ is the ancilla qubit initialized to $ |1\\rangle $\n",
    "- $ f(x) $ is the balanced function such that $ f(0) \\neq f(1) $\n",
    "- $ \\oplus $ represents addition modulo 2\n",
    "\n",
    "The CNOT gate used in the balanced oracle flips the ancilla qubit if the input qubit is $ |1\\rangle $, thus creating a superposition of $ |0\\rangle $ and $ |1\\rangle $ states for the ancilla qubit that is dependent on the input qubit's state.\n",
    "\n",
    "<div style=\"border-bottom: 1px solid #333;\"></div>"
   ]
  },
  {
   "cell_type": "markdown",
   "id": "fb082b53-53d6-4d6d-b94a-53804e39c03b",
   "metadata": {},
   "source": [
    "## Function Table\n",
    "\n",
    "The following table outlines the possible functions for a single-bit binary function and their classification:\n",
    "\n",
    "| Function \\( f(x) \\) | \\( f(0) \\) | \\( f(1) \\) | Classification |\n",
    "|---------------------|------------|------------|----------------|\n",
    "| Constant Zero       | 0          | 0          | Constant       |\n",
    "| Constant One        | 1          | 1          | Constant       |\n",
    "| Identity            | 0          | 1          | Balanced       |\n",
    "| Negation            | 1          | 0          | Balanced       |\n",
    "\n",
    "- Constant functions return the same output irrespective of the input.\n",
    "- Balanced functions return different outputs for different inputs.\n"
   ]
  },
  {
   "cell_type": "markdown",
   "id": "c902c8ca-172a-4fdc-bbd7-1fb183b89466",
   "metadata": {},
   "source": [
    "# Conclusion\n",
    "\n",
    "<div style=\"border-bottom: 1px solid #333;\"></div>"
   ]
  },
  {
   "cell_type": "markdown",
   "id": "38677084-eeed-4f69-8924-70c019056364",
   "metadata": {},
   "source": [
    "\n",
    "In this Jupyter notebook, we have delved into Deutsch's Algorithm, a quantum computing algorithm that exemplifies the formidable capabilities of quantum computation in addressing specific problems more efficiently than classical methods.\n",
    "By simulating the quantum circuit we have illustrated how this algorithm can discern whether a given binary function, represented as an oracle, is either constant or balanced doing so all with just a single inquiry.\n",
    "\n",
    "However, the importance of this algorithm goes beyond its immediate application. It provides a foundational understanding of quantum principles, including superposition, entanglement, and interference. These are not mere abstract concepts but serve as the very foundation upon which quantum computing's vast potential is constructed. These principles enable quantum computers to tackle complex problems and provide computational advantages that are presently beyond the reach of classical computers.\n",
    "\n",
    "Overall, Deutsch's Algorithm stands as a powerful testament to the innovative and transformative potential that quantum algorithms possess for the future of computation.\n"
   ]
  },
  {
   "cell_type": "markdown",
   "id": "d7340502-ab20-4deb-ae28-6f0a7df99749",
   "metadata": {},
   "source": [
    "# Notes\n",
    "\n",
    "<div style=\"border-bottom: 1px solid #333;\"></div>"
   ]
  },
  {
   "cell_type": "markdown",
   "id": "b8601e5b-2e14-465f-ab8b-0903368a0276",
   "metadata": {},
   "source": [
    "Code was written with the assistance of OpenAI - ChatGPT, all comments and explanations are my own."
   ]
  },
  {
   "cell_type": "markdown",
   "id": "700b587f-7fb6-4485-b1fd-fefd5293a973",
   "metadata": {},
   "source": [
    "# References\n",
    "\n",
    "<div style=\"border-bottom: 1px solid #333;\"></div>"
   ]
  },
  {
   "cell_type": "markdown",
   "id": "555338ad-aa63-4320-9c8e-4aff606edcce",
   "metadata": {},
   "source": [
    "[1] Vianna, Y., Barros, M.R. and Hor-Meyll, M. (2018). Classical realization of the quantum Deutsch algorithm. American Journal of Physics, 86(12), pp.914–923. doi:https://doi.org/10.1119/1.5065506. [Accessed 7 Nov. 2023]\n",
    "\n",
    "[2] DEV Community. (2020). Deutsch’s algorithm. [online] Available at: https://dev.to/dmarcr1997/deutsch-s-algorithm-4cc#:~:text=Deutsch%27s%20Algorithm%20was%20created%20by [Accessed 7 Nov. 2023]. \n",
    "\n",
    "[3] Nielsen, M.A., Chuang, I.L. (2009). Quantum Computation and Quantum Information. Cambridge University Press. https://profmcruz.files.wordpress.com/2017/08/quantum-computation-and-quantum-information-nielsen-chuang.pdf. [Accessed 12 Nov. 2023]\n",
    "\n",
    "[4] Horodecki, R., Horodecki, P., Horodecki, M. and Horodecki, K. (2009). Quantum entanglement. Reviews of Modern Physics, 81(2), pp.865–942. doi:https://doi.org/10.1103/revmodphys.81.865. [Accessed 22 Nov. 2023]\n",
    "\n",
    "[5] Paula, G. de (n.d.). JJ Sakurai - Modern Quantum Mechanics. www.academia.edu. [online] Available at: https://www.academia.edu/84894898/JJ_Sakurai_Modern_Quantum_Mechanics [Accessed 24 Nov. 2023]\n",
    "\n",
    "[6] Herres, D. (2015). Thomas Young and the double-slit experiment. [Online] https://www.testandmeasurementtips.com/thomas-young-and-the-double-slit-experiment/. [Accessed 27 Nov. 2023]\n",
    "\n",
    "[7] Arute, F., Arya, K., Babbush, R., Bacon, D., Bardin, J.C., Barends, R., Biswas, R., Boixo, S., Brandao, F.G.S.L., Buell, D.A., Burkett, B., Chen, Y., Chen, Z., Chiaro, B., Collins, R., Courtney, W., Dunsworth, A., Farhi, E., Foxen, B. and Fowler, A. (2019). Quantum supremacy using a programmable superconducting processor. Nature, [online] 574(7779), pp.505–510. doi:https://doi.org/10.1038/s41586-019-1666-5. [Accessed 27 Nov. 2023]\n",
    "\n",
    "[8] Arodz, T. (2020). Generalized Quantum Deutsch-Jozsa Algorithm. [online] Springer Link. doi:https://doi.org/10.1007/978-3-030-50433-5_36. [Accessed 7 Dec. 2023]\n",
    "\n",
    "[9] Full-Stack Quantum Computation. (2021). The Deutsch Algorithm. [online] Available at: https://fullstackquantumcomputation.tech/blog/deutsch-algorithm/#:~:text=The%20Deutsch%20algorithm%20is%20a. [Accessed 12 Dec. 2023]\n",
    "\n",
    "[10] Full-Stack Quantum Computation. (2021). The Deutsch Algorithm. [online] Available at: The Deutsch Algorithm. [Accessed 17 Dev. 2023]"
   ]
  }
 ],
 "metadata": {
  "kernelspec": {
   "display_name": "Python 3 (ipykernel)",
   "language": "python",
   "name": "python3"
  },
  "language_info": {
   "codemirror_mode": {
    "name": "ipython",
    "version": 3
   },
   "file_extension": ".py",
   "mimetype": "text/x-python",
   "name": "python",
   "nbconvert_exporter": "python",
   "pygments_lexer": "ipython3",
   "version": "3.11.5"
  }
 },
 "nbformat": 4,
 "nbformat_minor": 5
}
